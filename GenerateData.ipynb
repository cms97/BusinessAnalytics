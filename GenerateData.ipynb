{
  "nbformat": 4,
  "nbformat_minor": 0,
  "metadata": {
    "colab": {
      "name": "GenerateData.ipynb",
      "provenance": [],
      "collapsed_sections": []
    },
    "kernelspec": {
      "name": "python3",
      "display_name": "Python 3"
    }
  },
  "cells": [
    {
      "cell_type": "code",
      "metadata": {
        "colab": {
          "base_uri": "https://localhost:8080/"
        },
        "id": "qfQUh_tQwLU2",
        "outputId": "4891a578-3e29-4798-f726-0e53d1a558f1"
      },
      "source": [
        "from google.colab import drive\n",
        "drive.mount('/gdrive')\n",
        "#Change current working directory to gdrive\n",
        "%cd /gdrive\n",
        "\n",
        "import pandas as pd\n",
        "import pandas_datareader.data as web\n",
        "from datetime import date\n",
        "from dateutil.relativedelta import relativedelta"
      ],
      "execution_count": null,
      "outputs": [
        {
          "output_type": "stream",
          "text": [
            "Drive already mounted at /gdrive; to attempt to forcibly remount, call drive.mount(\"/gdrive\", force_remount=True).\n",
            "/gdrive\n"
          ],
          "name": "stdout"
        }
      ]
    },
    {
      "cell_type": "code",
      "metadata": {
        "id": "_NDwprn6wT24",
        "colab": {
          "base_uri": "https://localhost:8080/"
        },
        "outputId": "32670e6f-87f4-45be-93a9-4259a3082dc5"
      },
      "source": [
        "stocks = pd.read_excel('/gdrive/MyDrive/MSBA2021-cohortA-Team2/SCM518/Data/stocks.xlsx')\n",
        "df = pd.DataFrame()\n",
        "returns_df = pd.DataFrame()\n",
        "months_12 = date.today() + relativedelta(months=-12)\n",
        "for stk in stocks['Ticker Symbol']:\n",
        "  data = web.get_data_yahoo(stk,months_12,interval='m')\n",
        "  df[stk]=data['Close']\n",
        "df=df.transpose()\n",
        "df.to_excel(r'/gdrive/MyDrive/MSBA2021-cohortA-Team2/SCM518/Data/StockPriceData.xlsx')\n",
        "print(\"Done!\")"
      ],
      "execution_count": null,
      "outputs": [
        {
          "output_type": "stream",
          "text": [
            "Done!\n"
          ],
          "name": "stdout"
        }
      ]
    }
  ]
}